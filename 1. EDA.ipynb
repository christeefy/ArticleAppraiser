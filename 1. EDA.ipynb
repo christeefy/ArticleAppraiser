{
 "cells": [
  {
   "cell_type": "markdown",
   "metadata": {},
   "source": [
    "# Notebook 1: Exploratory Data Analysis"
   ]
  },
  {
   "cell_type": "code",
   "execution_count": 1,
   "metadata": {},
   "outputs": [],
   "source": [
    "import pandas as pd\n",
    "from src.utils import flatmap\n",
    "from src.text_utils import remove_middle_names"
   ]
  },
  {
   "cell_type": "markdown",
   "metadata": {},
   "source": [
    "#### Load JSON files into DataFrames"
   ]
  },
  {
   "cell_type": "code",
   "execution_count": 2,
   "metadata": {},
   "outputs": [
    {
     "data": {
      "text/html": [
       "<div>\n",
       "<style scoped>\n",
       "    .dataframe tbody tr th:only-of-type {\n",
       "        vertical-align: middle;\n",
       "    }\n",
       "\n",
       "    .dataframe tbody tr th {\n",
       "        vertical-align: top;\n",
       "    }\n",
       "\n",
       "    .dataframe thead th {\n",
       "        text-align: right;\n",
       "    }\n",
       "</style>\n",
       "<table border=\"1\" class=\"dataframe\">\n",
       "  <thead>\n",
       "    <tr style=\"text-align: right;\">\n",
       "      <th></th>\n",
       "      <th>abstract</th>\n",
       "      <th>authors</th>\n",
       "      <th>day</th>\n",
       "      <th>month</th>\n",
       "      <th>tags</th>\n",
       "      <th>title</th>\n",
       "      <th>year</th>\n",
       "    </tr>\n",
       "  </thead>\n",
       "  <tbody>\n",
       "    <tr>\n",
       "      <th>0</th>\n",
       "      <td>Learned feature representations and sub-phonem...</td>\n",
       "      <td>[{'name': 'Fred Richardson'}, {'name': 'Dougla...</td>\n",
       "      <td>3</td>\n",
       "      <td>4</td>\n",
       "      <td>[cs.CL, cs.CV, cs.LG, cs.NE, stat.ML]</td>\n",
       "      <td>A Unified Deep Neural Network for Speaker and ...</td>\n",
       "      <td>2015</td>\n",
       "    </tr>\n",
       "    <tr>\n",
       "      <th>1</th>\n",
       "      <td>We propose a simple neural network model to de...</td>\n",
       "      <td>[{'name': 'Muhammad Ghifary'}, {'name': 'W. Ba...</td>\n",
       "      <td>21</td>\n",
       "      <td>9</td>\n",
       "      <td>[cs.CV, cs.AI, cs.LG, cs.NE, stat.ML]</td>\n",
       "      <td>Domain Adaptive Neural Networks for Object Rec...</td>\n",
       "      <td>2014</td>\n",
       "    </tr>\n",
       "    <tr>\n",
       "      <th>2</th>\n",
       "      <td>Recent studies have demonstrated the power of ...</td>\n",
       "      <td>[{'name': 'Lionel Pigou'}, {'name': 'Aäron van...</td>\n",
       "      <td>5</td>\n",
       "      <td>6</td>\n",
       "      <td>[cs.CV, cs.AI, cs.LG, cs.NE, stat.ML]</td>\n",
       "      <td>Beyond Temporal Pooling: Recurrence and Tempor...</td>\n",
       "      <td>2015</td>\n",
       "    </tr>\n",
       "    <tr>\n",
       "      <th>3</th>\n",
       "      <td>In this paper, we address the task of Optical ...</td>\n",
       "      <td>[{'name': 'Rakesh Achanta'}, {'name': 'Trevor ...</td>\n",
       "      <td>20</td>\n",
       "      <td>9</td>\n",
       "      <td>[stat.ML, cs.AI, cs.CV, cs.LG, cs.NE]</td>\n",
       "      <td>Telugu OCR Framework using Deep Learning</td>\n",
       "      <td>2015</td>\n",
       "    </tr>\n",
       "    <tr>\n",
       "      <th>4</th>\n",
       "      <td>Recent progress in using recurrent neural netw...</td>\n",
       "      <td>[{'name': 'Li Yao'}, {'name': 'Atousa Torabi'}...</td>\n",
       "      <td>27</td>\n",
       "      <td>2</td>\n",
       "      <td>[stat.ML, cs.AI, cs.CL, cs.CV, cs.LG]</td>\n",
       "      <td>Describing Videos by Exploiting Temporal Struc...</td>\n",
       "      <td>2015</td>\n",
       "    </tr>\n",
       "  </tbody>\n",
       "</table>\n",
       "</div>"
      ],
      "text/plain": [
       "                                            abstract  \\\n",
       "0  Learned feature representations and sub-phonem...   \n",
       "1  We propose a simple neural network model to de...   \n",
       "2  Recent studies have demonstrated the power of ...   \n",
       "3  In this paper, we address the task of Optical ...   \n",
       "4  Recent progress in using recurrent neural netw...   \n",
       "\n",
       "                                             authors  day  month  \\\n",
       "0  [{'name': 'Fred Richardson'}, {'name': 'Dougla...    3      4   \n",
       "1  [{'name': 'Muhammad Ghifary'}, {'name': 'W. Ba...   21      9   \n",
       "2  [{'name': 'Lionel Pigou'}, {'name': 'Aäron van...    5      6   \n",
       "3  [{'name': 'Rakesh Achanta'}, {'name': 'Trevor ...   20      9   \n",
       "4  [{'name': 'Li Yao'}, {'name': 'Atousa Torabi'}...   27      2   \n",
       "\n",
       "                                    tags  \\\n",
       "0  [cs.CL, cs.CV, cs.LG, cs.NE, stat.ML]   \n",
       "1  [cs.CV, cs.AI, cs.LG, cs.NE, stat.ML]   \n",
       "2  [cs.CV, cs.AI, cs.LG, cs.NE, stat.ML]   \n",
       "3  [stat.ML, cs.AI, cs.CV, cs.LG, cs.NE]   \n",
       "4  [stat.ML, cs.AI, cs.CL, cs.CV, cs.LG]   \n",
       "\n",
       "                                               title  year  \n",
       "0  A Unified Deep Neural Network for Speaker and ...  2015  \n",
       "1  Domain Adaptive Neural Networks for Object Rec...  2014  \n",
       "2  Beyond Temporal Pooling: Recurrence and Tempor...  2015  \n",
       "3           Telugu OCR Framework using Deep Learning  2015  \n",
       "4  Describing Videos by Exploiting Temporal Struc...  2015  "
      ]
     },
     "execution_count": 2,
     "metadata": {},
     "output_type": "execute_result"
    }
   ],
   "source": [
    "train = pd.read_json('data/provided_json/data_train.json')\n",
    "valid = pd.read_json('data/provided_json/data_valid.json')\n",
    "test = pd.read_json('data/provided_json/data_test.json')\n",
    "train.head()"
   ]
  },
  {
   "cell_type": "markdown",
   "metadata": {},
   "source": [
    "#### Get the publishing frequency of each author in the training dataset"
   ]
  },
  {
   "cell_type": "code",
   "execution_count": 3,
   "metadata": {},
   "outputs": [],
   "source": [
    "def extract_authors(df):\n",
    "    return flatmap(\n",
    "        df['authors']\n",
    "        .apply(lambda x: [val for d in x for val in d.values()])  # Convert dicts of names to lists\n",
    "        .apply(lambda names: [remove_middle_names(name) for name in names]),  # Remove middle names\n",
    "        include_count=True\n",
    "    )"
   ]
  },
  {
   "cell_type": "code",
   "execution_count": 4,
   "metadata": {},
   "outputs": [
    {
     "data": {
      "text/html": [
       "<div>\n",
       "<style scoped>\n",
       "    .dataframe tbody tr th:only-of-type {\n",
       "        vertical-align: middle;\n",
       "    }\n",
       "\n",
       "    .dataframe tbody tr th {\n",
       "        vertical-align: top;\n",
       "    }\n",
       "\n",
       "    .dataframe thead th {\n",
       "        text-align: right;\n",
       "    }\n",
       "</style>\n",
       "<table border=\"1\" class=\"dataframe\">\n",
       "  <thead>\n",
       "    <tr style=\"text-align: right;\">\n",
       "      <th></th>\n",
       "      <th>authors</th>\n",
       "      <th>freq</th>\n",
       "    </tr>\n",
       "  </thead>\n",
       "  <tbody>\n",
       "    <tr>\n",
       "      <th>0</th>\n",
       "      <td>Yoshua Bengio</td>\n",
       "      <td>88</td>\n",
       "    </tr>\n",
       "    <tr>\n",
       "      <th>1</th>\n",
       "      <td>Uwe Aickelin</td>\n",
       "      <td>84</td>\n",
       "    </tr>\n",
       "    <tr>\n",
       "      <th>2</th>\n",
       "      <td>Marcus Hutter</td>\n",
       "      <td>78</td>\n",
       "    </tr>\n",
       "    <tr>\n",
       "      <th>3</th>\n",
       "      <td>Chunhua Shen</td>\n",
       "      <td>75</td>\n",
       "    </tr>\n",
       "    <tr>\n",
       "      <th>4</th>\n",
       "      <td>Joseph Halpern</td>\n",
       "      <td>66</td>\n",
       "    </tr>\n",
       "  </tbody>\n",
       "</table>\n",
       "</div>"
      ],
      "text/plain": [
       "          authors  freq\n",
       "0   Yoshua Bengio    88\n",
       "1    Uwe Aickelin    84\n",
       "2   Marcus Hutter    78\n",
       "3    Chunhua Shen    75\n",
       "4  Joseph Halpern    66"
      ]
     },
     "execution_count": 4,
     "metadata": {},
     "output_type": "execute_result"
    }
   ],
   "source": [
    "train_authors = extract_authors(train)\n",
    "valid_authors = extract_authors(valid)\n",
    "test_authors = extract_authors(test)\n",
    "\n",
    "train_authors.head()"
   ]
  },
  {
   "cell_type": "markdown",
   "metadata": {},
   "source": [
    "## Summary"
   ]
  },
  {
   "cell_type": "code",
   "execution_count": 5,
   "metadata": {},
   "outputs": [
    {
     "name": "stdout",
     "output_type": "stream",
     "text": [
      "The 'train' dataset contains 19306 documents with 27387 unique authors.\n",
      "The 'valid' dataset contains 2000 documents with 6297 unique authors.\n",
      "The 'test' dataset contains 2000 documents with 6223 unique authors.\n"
     ]
    }
   ],
   "source": [
    "for dataset, df, authors in zip(['train', 'valid', 'test'], [train, valid, test], [train_authors, valid_authors, test_authors]):\n",
    "    print(f\"The '{dataset}' dataset contains {len(df)} documents with {len(authors)} unique authors.\")"
   ]
  },
  {
   "cell_type": "markdown",
   "metadata": {},
   "source": [
    "---"
   ]
  },
  {
   "cell_type": "markdown",
   "metadata": {},
   "source": [
    "# Preliminary Analysis\n",
    "The following analyses were focused on the properties of the training dataset (i.e. `data_train.json`)"
   ]
  },
  {
   "cell_type": "markdown",
   "metadata": {},
   "source": [
    "#### How many keys are there in the `authors` field?"
   ]
  },
  {
   "cell_type": "code",
   "execution_count": 6,
   "metadata": {},
   "outputs": [
    {
     "data": {
      "text/plain": [
       "{'name'}"
      ]
     },
     "execution_count": 6,
     "metadata": {},
     "output_type": "execute_result"
    }
   ],
   "source": [
    "set(val for l in train['authors'].apply(lambda l: set(k for d in l for k in d.keys())) for val in l)"
   ]
  },
  {
   "cell_type": "markdown",
   "metadata": {},
   "source": [
    "One field exists (i.e. `name`)."
   ]
  },
  {
   "cell_type": "markdown",
   "metadata": {},
   "source": [
    "#### How many authors are there for each document?"
   ]
  },
  {
   "cell_type": "code",
   "execution_count": 7,
   "metadata": {},
   "outputs": [
    {
     "data": {
      "text/html": [
       "<div>\n",
       "<style scoped>\n",
       "    .dataframe tbody tr th:only-of-type {\n",
       "        vertical-align: middle;\n",
       "    }\n",
       "\n",
       "    .dataframe tbody tr th {\n",
       "        vertical-align: top;\n",
       "    }\n",
       "\n",
       "    .dataframe thead th {\n",
       "        text-align: right;\n",
       "    }\n",
       "</style>\n",
       "<table border=\"1\" class=\"dataframe\">\n",
       "  <thead>\n",
       "    <tr style=\"text-align: right;\">\n",
       "      <th></th>\n",
       "      <th># Papers</th>\n",
       "    </tr>\n",
       "    <tr>\n",
       "      <th># Authors</th>\n",
       "      <th></th>\n",
       "    </tr>\n",
       "  </thead>\n",
       "  <tbody>\n",
       "    <tr>\n",
       "      <th>1</th>\n",
       "      <td>3478</td>\n",
       "    </tr>\n",
       "    <tr>\n",
       "      <th>2</th>\n",
       "      <td>5834</td>\n",
       "    </tr>\n",
       "    <tr>\n",
       "      <th>3</th>\n",
       "      <td>5024</td>\n",
       "    </tr>\n",
       "    <tr>\n",
       "      <th>4</th>\n",
       "      <td>2901</td>\n",
       "    </tr>\n",
       "    <tr>\n",
       "      <th>5</th>\n",
       "      <td>1201</td>\n",
       "    </tr>\n",
       "    <tr>\n",
       "      <th>6</th>\n",
       "      <td>466</td>\n",
       "    </tr>\n",
       "    <tr>\n",
       "      <th>7</th>\n",
       "      <td>187</td>\n",
       "    </tr>\n",
       "    <tr>\n",
       "      <th>8</th>\n",
       "      <td>90</td>\n",
       "    </tr>\n",
       "    <tr>\n",
       "      <th>9</th>\n",
       "      <td>47</td>\n",
       "    </tr>\n",
       "    <tr>\n",
       "      <th>10</th>\n",
       "      <td>27</td>\n",
       "    </tr>\n",
       "    <tr>\n",
       "      <th>11</th>\n",
       "      <td>10</td>\n",
       "    </tr>\n",
       "    <tr>\n",
       "      <th>12</th>\n",
       "      <td>10</td>\n",
       "    </tr>\n",
       "    <tr>\n",
       "      <th>13</th>\n",
       "      <td>7</td>\n",
       "    </tr>\n",
       "    <tr>\n",
       "      <th>14</th>\n",
       "      <td>5</td>\n",
       "    </tr>\n",
       "    <tr>\n",
       "      <th>15</th>\n",
       "      <td>6</td>\n",
       "    </tr>\n",
       "    <tr>\n",
       "      <th>16</th>\n",
       "      <td>1</td>\n",
       "    </tr>\n",
       "    <tr>\n",
       "      <th>17</th>\n",
       "      <td>3</td>\n",
       "    </tr>\n",
       "    <tr>\n",
       "      <th>18</th>\n",
       "      <td>4</td>\n",
       "    </tr>\n",
       "    <tr>\n",
       "      <th>29</th>\n",
       "      <td>1</td>\n",
       "    </tr>\n",
       "    <tr>\n",
       "      <th>30</th>\n",
       "      <td>1</td>\n",
       "    </tr>\n",
       "    <tr>\n",
       "      <th>34</th>\n",
       "      <td>1</td>\n",
       "    </tr>\n",
       "    <tr>\n",
       "      <th>51</th>\n",
       "      <td>1</td>\n",
       "    </tr>\n",
       "    <tr>\n",
       "      <th>67</th>\n",
       "      <td>1</td>\n",
       "    </tr>\n",
       "  </tbody>\n",
       "</table>\n",
       "</div>"
      ],
      "text/plain": [
       "           # Papers\n",
       "# Authors          \n",
       "1              3478\n",
       "2              5834\n",
       "3              5024\n",
       "4              2901\n",
       "5              1201\n",
       "6               466\n",
       "7               187\n",
       "8                90\n",
       "9                47\n",
       "10               27\n",
       "11               10\n",
       "12               10\n",
       "13                7\n",
       "14                5\n",
       "15                6\n",
       "16                1\n",
       "17                3\n",
       "18                4\n",
       "29                1\n",
       "30                1\n",
       "34                1\n",
       "51                1\n",
       "67                1"
      ]
     },
     "execution_count": 7,
     "metadata": {},
     "output_type": "execute_result"
    }
   ],
   "source": [
    "papers_vs_author = train['authors'].apply(len).value_counts().sort_index()\n",
    "papers_vs_author = pd.DataFrame(papers_vs_author).rename({'authors': '# Papers'}, axis=1)\n",
    "papers_vs_author.index.name = '# Authors'\n",
    "papers_vs_author"
   ]
  },
  {
   "cell_type": "markdown",
   "metadata": {},
   "source": [
    "From above, we can see the majority of papers are written by 1 to 3 authors. For some papers, the author counts are very high. On initial inspection, all these papers were actual papers with high degrees of collaboration. (TODO) Interestingly, the 67-authors paper is actually a collection of papers."
   ]
  },
  {
   "cell_type": "markdown",
   "metadata": {},
   "source": [
    "#### What are the time spans for the dataset?"
   ]
  },
  {
   "cell_type": "code",
   "execution_count": 8,
   "metadata": {},
   "outputs": [
    {
     "name": "stdout",
     "output_type": "stream",
     "text": [
      "First paper in dataset was published in 1993.\n",
      "Published papers go up to year 2015.\n",
      "\n"
     ]
    },
    {
     "data": {
      "image/png": "[encoded data removed]",
      "text/plain": [
       "<Figure size 432x288 with 1 Axes>"
      ]
     },
     "metadata": {
      "needs_background": "light"
     },
     "output_type": "display_data"
    }
   ],
   "source": [
    "# Number of years with published papers and their distribution\n",
    "print(f'First paper in dataset was published in {train[\"year\"].min()}.')\n",
    "print(f'Published papers go up to year {train[\"year\"].max()}.')\n",
    "print()\n",
    "train['year'].hist(bins=20);"
   ]
  }
 ],
 "metadata": {
  "kernelspec": {
   "display_name": "Python3 (gp)",
   "language": "python",
   "name": "gp"
  },
  "language_info": {
   "codemirror_mode": {
    "name": "ipython",
    "version": 3
   },
   "file_extension": ".py",
   "mimetype": "text/x-python",
   "name": "python",
   "nbconvert_exporter": "python",
   "pygments_lexer": "ipython3",
   "version": "3.6.7"
  }
 },
 "nbformat": 4,
 "nbformat_minor": 2
}
